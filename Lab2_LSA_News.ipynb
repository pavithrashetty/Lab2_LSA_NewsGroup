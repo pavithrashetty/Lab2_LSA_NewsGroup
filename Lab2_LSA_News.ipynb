{
 "metadata": {
  "name": "",
  "signature": "sha256:7decce6e4733590c09820e558b59c016995e995d30f747aea41f8ecf8093b843"
 },
 "nbformat": 3,
 "nbformat_minor": 0,
 "worksheets": [
  {
   "cells": [
    {
     "cell_type": "code",
     "collapsed": false,
     "input": [
      "import nltk\n",
      "from nltk.corpus import stopwords\n",
      "from sklearn.feature_extraction.text import TfidfVectorizer\n",
      "from sklearn.decomposition import TruncatedSVD"
     ],
     "language": "python",
     "metadata": {},
     "outputs": [],
     "prompt_number": 1
    },
    {
     "cell_type": "code",
     "collapsed": false,
     "input": [
      "from sklearn.datasets import fetch_20newsgroups\n",
      "categories = ['rec.sport.baseball']\n",
      "dataset = fetch_20newsgroups(subset='all',shuffle=True, random_state=42, categories=categories)\n",
      "corpus = dataset.data"
     ],
     "language": "python",
     "metadata": {},
     "outputs": [],
     "prompt_number": 2
    },
    {
     "cell_type": "code",
     "collapsed": false,
     "input": [
      "stopset = set(stopwords.words('english'))\n",
      "stopset.update(['lt','p','/p','br','amp','quot','field','font','normal','span','0px','rgb','style','51', \n",
      "                'spacing','text','helvetica','size','family', 'space', 'arial', 'height', 'indent', 'letter'\n",
      "                'line','none','sans','serif','transform','line','variant','weight','times', 'new','strong', 'video', 'title'\n",
      "                'white','word','letter', 'roman','0pt','16','color','12','0','00','000','14','21', 'neue', 'apple', 'class','edu','com',\n",
      "                '001','616','100','0010','two','re','david','go','well','runs','would','ca','cs','make','may','could','know','20','one',\n",
      "                'john','nntp','0000ahc','udcps3','cps','like','000th','also','get','lines','year','0023','morris','aix','writes',\n",
      "                'mjones','run','time','let','002251w','0023','mike','last','people','day','netcom','won','team','see','games','win',\n",
      "                'game','host','dave','10','axe','acadiau','first','many','going','good','002','755','harris','jewish','last','second',\n",
      "                '734117130','think','best','win','right','even','way','since','ll','three','02','always','frank','subject','001211',\n",
      "                '18457','adobe','much','ever','lot','lafayette','lafibm','vb30','come','lowenstein','jhu','gant','roger','braves',\n",
      "                'hirschbeck','princeton','least','03','ball','red','04','thanks','tell','point','usa','sure','005','866','003','759',\n",
      "                'lankford','still','cc','003015','vmsb','csupomona','004746','13007','ramsey','15','isn','look','third','steve','base',\n",
      "                'got','colorado','mark','reason','sox','williams','blue','didn','polonia','bob','every','really','trying','want','give',\n",
      "                'smith','stats','anyone','might','us','little','joe','big','world','lost','pretty','jays','name','news','back','say',\n",
      "                '1993','nl','home','mail','made','al','never','0062','006','01','005314','5700','mnemosyne','sabo','able','thought',\n",
      "                'dale','stephenson','steph','alomar','white','ve','bonds','beloved','mets','maybe','lopez','mean','young','toronto','11',\n",
      "                'better','though','true','false','hank','baltimore','east','wondering','scott','boston','bases','west','swallows','find',\n",
      "                'around','yes','no','ted','list','greenberg','years','said','michael','0096b0f0','c5de05a0','msu','doesn','help','call',\n",
      "                'samuel','need','007','844','martinez','008','009','452','742','0096a95c','a0cbe0e8','actually','prism','gatech',\n",
      "                'pitching','05','06','07','08','09','past','idle','long','bad','start','end','guys','another','duke','phillies','remember',\n",
      "                'era','econ','rickert','hulman','left','hall','thing','fact','dept','na','reply','came','kingston','ibm','greg','however',\n",
      "                'hr','phillies','else','berkeley','00ecgillespie','san','reds','00bjgood','leo','bsuvc','00ecgillespi','rescinded',\n",
      "                'journalism','indiana','drake','dwarner','total','cornell','00cgbabbitt','without','18','baerga','hp','aaa','yankee',\n",
      "                'used','boggs','york','speed','matt','pitt','wins','1992','case','chicago','called','barman','rockies','philadelphia',\n",
      "                'davis','california','univ','mind','jack','enough','yankees','guy','use','box','23','take','00x','00mbstultz','bsu','peak',\n",
      "                'mss','non','pitchers','00pmleme','top','17','throw','4th','asd','greenwell','dp','spot','extra','post','sgi','plate',\n",
      "                'nichols','pitchers','henderson','500','22','maine','history','jhunix','jhunix','hcf','lurie','apr','real','course',\n",
      "                'next','high','singer','rule','says','eric','play','1993apr15','texas','someone','hit','13','tedward','stanford','vs',\n",
      "                'uiuc','recently','dennis','alleg','man','koufax','stankowitz','sandy','pablo','pitcher','0100','los','angeles','giants',\n",
      "                '010745','ryan','0100','x132','hof','30','jose','010423','11050','acns','number','things','ab','acad','sbp002','walks',\n",
      "                '00pmlemen','viola','atlanta','rather','fischer','24','somebody','something','given','ny','either','neither','yet','today',\n",
      "                'went','houston','oh','florida','jtchern','ocf','011653','7403','astro','pinch','torre','obp','gilkey','dcon','0114',\n",
      "                'demers','ucsd','dops','net','kingman','walk','done','012139','away','astros','1988','19','mlb','wasn','ba','cincinnati',\n",
      "                'runner','13444','clemens','old','new','25','619','534','013','015','014','016','017','705','lame','013653','names',\n",
      "                'talking','virginia','018','019','020','black','lelan','deshields','expos','indians','numbers','pirates','upenn','bill',\n",
      "                'james','du','valentine','yesterday','eagle','wesleyan','lee','twins','8770','lustig','edward','865','015442','0169','fax',\n",
      "                'sandberg','015908','10416','ncar','anything','15723','please','cox','28','murray','333','oz','hernandez','613','park',\n",
      "                'vma','early','020347','9554','mgweed','01810','rawley','eastwick','020426','41','3316','snichols','013145','seattle',\n",
      "                'put','kirsch','020832','11663','02086551','021','022','023','024','030','715','diego','yeah','bass','island','hey','hi',\n",
      "                'almost','pittsburgh','tigers','300','alchemy','02141','76','02086551 ','250','rose','02115','fath','mbcrr','thf2','408',\n",
      "                'leland','etc','020513','27363','chem','02138','1993apr20','0223','wouldn','02143','harry','chapin','cis','02172',\n",
      "                'voice','800','alan','cal','50','sherri','weren','024643','022425','29145','article','5135','024222','11181','newshub',\n",
      "                '718','025','026','027','028','029','030','bordick','35','025636','ulkyvx','louisville','025027','4846','oswego','025331',\n",
      "                '17413','laurentian','1991','jones','seem','sorry','thomas','025018','23003','crux','032345','030934','23187','st',\n",
      "                '030713','1715','1993apr4','5178','1993apr18','contrary','030412','1210','gspira','deleted','jim','032554','12401',\n",
      "                '032930','19811','033504','13966','36','032427','22464','035607','26095','ariel','035406','11473','vax','93','035220',\n",
      "                '21801','uvm','034558','28920','midway','yale','039','636','brian','038','631','573','039','040','067','151','yount',\n",
      "                'uh','699','morandini','04131972','0400','karim','041','806','041','042','043','044','045','046','047','048','049','050',\n",
      "                'edvard','041620','27894','reynolds','others','george','ok','clarku','hhenderson','04473','ncaa','045040','10480','044201',\n",
      "                '27457','clark','uchicago','044248','16010','sarah','luriem','liberalizer','champs','32','050311','10098','0480','0456',\n",
      "                'tipper','gore','ozzie','051540','1367','27','robert','bo','sean','052','053','147','gt0523e','nhs','neb','052025','10610',\n",
      "                '150','052741','28429','brandeis','col','cin','garrison','059','053221','11240','056','totals','233','1993apr19','ron',\n",
      "                '158','34','05pm','35pm','june','05apr93','13661642','gary','olson','060','735','lewis','060413','9187','90','128',\n",
      "                '060493114752','060208','9187','write','17373','dkeisen','14691229','060540','27397','232551','061102','16204','060530',\n",
      "                '26367','061709','bohnert','1993apr17','063','713','devereaux','062907','062222','9960','31','108109','801','bnlux1',\n",
      "                '063339','10118','bnl','064','711','065','726','alou','650','545','065059','16619','06520','0688','8187','7029','069',\n",
      "                '2158','070','149','072','812','jackson','071','708','073051','9160','077','154','079','tc','umn','602','075','143','083',\n",
      "                '777','083','145','mil','tor','081214','3921','csd','085508','5787','wvnvms','086','190','200','084432','3805','26',\n",
      "                '087','146','nd','088','089','090','582','biggio','716','503','gonzalez','08903','johnson','091','144','656','182',\n",
      "                '093231','5148','095','74','1b','817','1990','099','738','1000','10010717','hpfcso','3b','0l2','abs','ehd','0b12',\n",
      "                '100648','ns1','1009','100921rk0vsanu','1003','101','179','33','187','73','62','875','10176','bmerh85','bnr','101636',\n",
      "                'otago','ac','102','132','10280','10219','iccgcc','1024','10219','400','',])\n"
     ],
     "language": "python",
     "metadata": {},
     "outputs": [],
     "prompt_number": 3
    },
    {
     "cell_type": "code",
     "collapsed": false,
     "input": [
      "vectorizer = TfidfVectorizer(stop_words=stopset,\n",
      "                                 use_idf=True, ngram_range=(1, 3))\n"
     ],
     "language": "python",
     "metadata": {},
     "outputs": [],
     "prompt_number": 4
    },
    {
     "cell_type": "code",
     "collapsed": false,
     "input": [
      "X = vectorizer.fit_transform(corpus)"
     ],
     "language": "python",
     "metadata": {},
     "outputs": [],
     "prompt_number": 5
    },
    {
     "cell_type": "code",
     "collapsed": false,
     "input": [
      "X[0]"
     ],
     "language": "python",
     "metadata": {},
     "outputs": [
      {
       "metadata": {},
       "output_type": "pyout",
       "prompt_number": 6,
       "text": [
        "<1x129644 sparse matrix of type '<type 'numpy.float64'>'\n",
        "\twith 141 stored elements in Compressed Sparse Row format>"
       ]
      }
     ],
     "prompt_number": 6
    },
    {
     "cell_type": "code",
     "collapsed": false,
     "input": [
      "print X[0]"
     ],
     "language": "python",
     "metadata": {},
     "outputs": [
      {
       "output_type": "stream",
       "stream": "stdout",
       "text": [
        "  (0, 46637)\t0.0881701725319\n",
        "  (0, 78682)\t0.0881701725319\n",
        "  (0, 115156)\t0.0881701725319\n",
        "  (0, 44913)\t0.0881701725319\n",
        "  (0, 71431)\t0.0881701725319\n",
        "  (0, 92616)\t0.0881701725319\n",
        "  (0, 100706)\t0.0881701725319\n",
        "  (0, 68733)\t0.0881701725319\n",
        "  (0, 79113)\t0.0881701725319\n",
        "  (0, 42627)\t0.0881701725319\n",
        "  (0, 35474)\t0.0881701725319\n",
        "  (0, 22998)\t0.0881701725319\n",
        "  (0, 44897)\t0.0881701725319\n",
        "  (0, 35478)\t0.0881701725319\n",
        "  (0, 47082)\t0.0881701725319\n",
        "  (0, 35376)\t0.0881701725319\n",
        "  (0, 61664)\t0.0881701725319\n",
        "  (0, 78705)\t0.0881701725319\n",
        "  (0, 129064)\t0.0881701725319\n",
        "  (0, 56689)\t0.0881701725319\n",
        "  (0, 40031)\t0.0881701725319\n",
        "  (0, 64258)\t0.0881701725319\n",
        "  (0, 24114)\t0.0796932883544\n",
        "  (0, 84113)\t0.0796932883544\n",
        "  (0, 61529)\t0.0832115131651\n",
        "  :\t:\n",
        "  (0, 56645)\t0.0588449713807\n",
        "  (0, 40025)\t0.0712164041769\n",
        "  (0, 64254)\t0.0747346289876\n",
        "  (0, 61527)\t0.0796932883544\n",
        "  (0, 77399)\t0.0627395199994\n",
        "  (0, 117707)\t0.0542626358219\n",
        "  (0, 56867)\t0.0600105728255\n",
        "  (0, 28816)\t0.0469896302997\n",
        "  (0, 21126)\t0.0643725500125\n",
        "  (0, 58117)\t0.0410845661826\n",
        "  (0, 100917)\t0.0662577448101\n",
        "  (0, 84109)\t0.13251548962\n",
        "  (0, 24098)\t0.118827781291\n",
        "  (0, 26308)\t0.125479039999\n",
        "  (0, 9637)\t0.0881701725319\n",
        "  (0, 66457)\t0.13251548962\n",
        "  (0, 115550)\t0.07284943419\n",
        "  (0, 32695)\t0.0465750292812\n",
        "  (0, 78505)\t0.07284943419\n",
        "  (0, 122013)\t0.0215326493204\n",
        "  (0, 112124)\t0.0446898344836\n",
        "  (0, 83414)\t0.0123282842963\n",
        "  (0, 48224)\t0.149469257975\n",
        "  (0, 35355)\t0.193117650037\n",
        "  (0, 128618)\t0.0881701725319\n"
       ]
      }
     ],
     "prompt_number": 7
    },
    {
     "cell_type": "code",
     "collapsed": false,
     "input": [
      "X.shape"
     ],
     "language": "python",
     "metadata": {},
     "outputs": [
      {
       "metadata": {},
       "output_type": "pyout",
       "prompt_number": 8,
       "text": [
        "(994, 129644)"
       ]
      }
     ],
     "prompt_number": 8
    },
    {
     "cell_type": "code",
     "collapsed": false,
     "input": [
      "lsa = TruncatedSVD(n_components=27, n_iter=100)\n"
     ],
     "language": "python",
     "metadata": {},
     "outputs": [],
     "prompt_number": 9
    },
    {
     "cell_type": "code",
     "collapsed": false,
     "input": [
      "lsa.fit(X)"
     ],
     "language": "python",
     "metadata": {},
     "outputs": [
      {
       "metadata": {},
       "output_type": "pyout",
       "prompt_number": 10,
       "text": [
        "TruncatedSVD(algorithm='randomized', n_components=27, n_iter=100,\n",
        "       random_state=None, tol=0.0)"
       ]
      }
     ],
     "prompt_number": 10
    },
    {
     "cell_type": "code",
     "collapsed": false,
     "input": [
      "lsa.components_[0]"
     ],
     "language": "python",
     "metadata": {},
     "outputs": [
      {
       "metadata": {},
       "output_type": "pyout",
       "prompt_number": 11,
       "text": [
        "array([ 0.00068872,  0.00064676,  0.00064676, ...,  0.00197907,\n",
        "        0.00197907,  0.00197907])"
       ]
      }
     ],
     "prompt_number": 11
    },
    {
     "cell_type": "code",
     "collapsed": false,
     "input": [
      "terms = vectorizer.get_feature_names()\n",
      "for i, comp in enumerate(lsa.components_): \n",
      "    termsInComp = zip (terms,comp)\n",
      "    sortedTerms =  sorted(termsInComp, key=lambda x: x[1], reverse=True) [:10]\n",
      "    print \"Concept %d:\" % i\n",
      "    for term in sortedTerms:\n",
      "        print term[0]\n",
      "    print \" \""
     ],
     "language": "python",
     "metadata": {},
     "outputs": [
      {
       "output_type": "stream",
       "stream": "stdout",
       "text": [
        "Concept 0:\n",
        "baseball\n",
        "players\n",
        "organization\n",
        "clutch\n",
        "university\n",
        "posting\n",
        "hitter\n",
        "league\n",
        "batting\n",
        "season\n",
        " \n",
        "Concept 1:"
       ]
      },
      {
       "output_type": "stream",
       "stream": "stdout",
       "text": [
        "\n",
        "scores\n",
        "angels\n",
        "joseph\n",
        "dodgers\n",
        "cubs\n",
        "national\n",
        "american\n",
        "standings scores\n",
        "louis\n",
        "kansas city\n",
        " \n",
        "Concept 2:"
       ]
      },
      {
       "output_type": "stream",
       "stream": "stdout",
       "text": [
        "\n",
        "clutch\n",
        "league\n",
        "work\n",
        "organization university\n",
        "clutch situations\n",
        "future\n",
        "situations\n",
        "batting average clutch\n",
        "average clutch\n",
        "batting average\n",
        " \n",
        "Concept 3:"
       ]
      },
      {
       "output_type": "stream",
       "stream": "stdout",
       "text": [
        "\n",
        "players\n",
        "organization university\n",
        "103\n",
        "season\n",
        "103 37 mvp\n",
        "baseball\n",
        "hits stolen\n",
        "stolen\n",
        "defensive\n",
        "watch\n",
        " \n",
        "Concept 4:"
       ]
      },
      {
       "output_type": "stream",
       "stream": "stdout",
       "text": [
        "\n",
        "batting\n",
        "probably\n",
        "league\n",
        "stolen\n",
        "biochem\n",
        "hits stolen\n",
        "division\n",
        "fan\n",
        "season\n",
        "fielder\n",
        " \n",
        "Concept 5:"
       ]
      },
      {
       "output_type": "stream",
       "stream": "stdout",
       "text": [
        "\n",
        "clutch\n",
        "average\n",
        "102857\n",
        "baseball\n",
        "organization\n",
        "distribution\n",
        "batting\n",
        "individual\n",
        "rbi\n",
        "organization university\n",
        " \n",
        "Concept 6:"
       ]
      },
      {
       "output_type": "stream",
       "stream": "stdout",
       "text": [
        "\n",
        "baseball players\n",
        "players\n",
        "probably\n",
        "100th career appears\n",
        "organization university\n",
        "league\n",
        "hitter\n",
        "baseball\n",
        "believe\n",
        "balls\n",
        " \n",
        "Concept 7:"
       ]
      },
      {
       "output_type": "stream",
       "stream": "stdout",
       "text": [
        "\n",
        "fans\n",
        "fan\n",
        "university\n",
        "distribution\n",
        "posting\n",
        "organization\n",
        "america\n",
        "100th career appears\n",
        "103 193\n",
        "103 37 mvp\n",
        " \n",
        "Concept 8:"
       ]
      },
      {
       "output_type": "stream",
       "stream": "stdout",
       "text": [
        "\n",
        "organization university\n",
        "hitter\n",
        "performance\n",
        "question\n",
        "103 37 mvp\n",
        "played\n",
        "102857 tesla\n",
        "america\n",
        "hitting\n",
        "university\n",
        " \n",
        "Concept 9:"
       ]
      },
      {
       "output_type": "stream",
       "stream": "stdout",
       "text": [
        "\n",
        "pitch\n",
        "clutch\n",
        "average\n",
        "winning\n",
        "fans\n",
        "103 193 drabek\n",
        "score\n",
        "teams\n",
        "career\n",
        "season\n",
        " \n",
        "Concept 10:"
       ]
      },
      {
       "output_type": "stream",
       "stream": "stdout",
       "text": [
        "\n",
        "university\n",
        "teams\n",
        "cubs\n",
        "season\n",
        "103 37\n",
        "strike\n",
        "103 37 mvp\n",
        "simmons\n",
        "division\n",
        "dodgers\n",
        " \n",
        "Concept 11:"
       ]
      },
      {
       "output_type": "stream",
       "stream": "stdout",
       "text": [
        "\n",
        "behind\n",
        "fan\n",
        "clutch\n",
        "major\n",
        "believe\n",
        "likely\n",
        "batters\n",
        "angels\n",
        "barry\n",
        "playing\n",
        " \n",
        "Concept 12:"
       ]
      },
      {
       "output_type": "stream",
       "stream": "stdout",
       "text": [
        "\n",
        "102857 tesla\n",
        "103 193\n",
        "102857 tesla njit\n",
        "100th career appears\n",
        "clutch\n",
        "players\n",
        "scores\n",
        "work\n",
        "fan\n",
        "mattingly\n",
        " \n",
        "Concept 13:"
       ]
      },
      {
       "output_type": "stream",
       "stream": "stdout",
       "text": [
        "\n",
        "average\n",
        "hitter\n",
        "distribution\n",
        "probably\n",
        "organization university\n",
        "103 193\n",
        "season\n",
        "winning\n",
        "100th career appears\n",
        "103 37 mvp\n",
        " \n",
        "Concept 14:"
       ]
      },
      {
       "output_type": "stream",
       "stream": "stdout",
       "text": [
        "\n",
        "103 193 drabek\n",
        "fan\n",
        "great\n",
        "organization university\n",
        "player\n",
        "103\n",
        "clutch\n",
        "career\n",
        "watching\n",
        "certainly\n",
        " \n",
        "Concept 15:"
       ]
      },
      {
       "output_type": "stream",
       "stream": "stdout",
       "text": [
        "\n",
        "season\n",
        "player\n",
        "scores\n",
        "players\n",
        "university\n",
        "bat\n",
        "102857 tesla\n",
        "behind\n",
        "sports\n",
        "winning\n",
        " \n",
        "Concept 16:"
       ]
      },
      {
       "output_type": "stream",
       "stream": "stdout",
       "text": [
        "\n",
        "league\n",
        "player\n",
        "102857 tesla\n",
        "baseball\n",
        "career\n",
        "question\n",
        "behind\n",
        "work\n",
        "institute technology\n",
        "score\n",
        " \n",
        "Concept 17:"
       ]
      },
      {
       "output_type": "stream",
       "stream": "stdout",
       "text": [
        "\n",
        "baseball\n",
        "career\n",
        "outs\n",
        "strike\n",
        "103 37\n",
        "teams\n",
        "103\n",
        "college\n",
        "great\n",
        "fan\n",
        " \n",
        "Concept 18:"
       ]
      },
      {
       "output_type": "stream",
       "stream": "stdout",
       "text": [
        "\n",
        "player\n",
        "organization university\n",
        "102857 tesla njit\n",
        "batting\n",
        "103 193 drabek\n",
        "teams\n",
        "102857 tesla\n",
        "hitting\n",
        "winfield\n",
        "balls\n",
        " \n",
        "Concept 19:"
       ]
      },
      {
       "output_type": "stream",
       "stream": "stdout",
       "text": [
        "\n",
        "baseball\n",
        "103 37\n",
        "players\n",
        "clutch\n",
        "distribution\n",
        "university\n",
        "102857 tesla njit\n",
        "organization university\n",
        "102857\n",
        "league\n",
        " \n",
        "Concept 20:"
       ]
      },
      {
       "output_type": "stream",
       "stream": "stdout",
       "text": [
        "\n",
        "organization university\n",
        "103 37 mvp\n",
        "season\n",
        "hitting\n",
        "career\n",
        "university\n",
        "believe\n",
        "teams\n",
        "staff\n",
        "rbi\n",
        " \n",
        "Concept 21:"
       ]
      },
      {
       "output_type": "stream",
       "stream": "stdout",
       "text": [
        "\n",
        "players\n",
        "103 193 drabek\n",
        "100th career appears\n",
        "102857 tesla njit\n",
        "university\n",
        "series\n",
        "division\n",
        "work\n",
        "institute technology\n",
        "ahead\n",
        " \n",
        "Concept 22:"
       ]
      },
      {
       "output_type": "stream",
       "stream": "stdout",
       "text": [
        "\n",
        "hitter\n",
        "player\n",
        "believe\n",
        "103\n",
        "season\n",
        "players\n",
        "average\n",
        "posting\n",
        "organization\n",
        "102857\n",
        " \n",
        "Concept 23:"
       ]
      },
      {
       "output_type": "stream",
       "stream": "stdout",
       "text": [
        "\n",
        "103 193 drabek\n",
        "102857\n",
        "university\n",
        "102857 tesla\n",
        "posting\n",
        "players\n",
        "100th career\n",
        "103\n",
        "strike\n",
        "organization university\n",
        " \n",
        "Concept 24:"
       ]
      },
      {
       "output_type": "stream",
       "stream": "stdout",
       "text": [
        "\n",
        "103 193 drabek\n",
        "believe\n",
        "102857\n",
        "hitter\n",
        "cubs\n",
        "103\n",
        "103 37\n",
        "national\n",
        "100th career appears\n",
        "hitting\n",
        " \n",
        "Concept 25:"
       ]
      },
      {
       "output_type": "stream",
       "stream": "stdout",
       "text": [
        "\n",
        "players\n",
        "believe\n",
        "103\n",
        "100th career\n",
        "probably\n",
        "strike\n",
        "season\n",
        "100th career appears\n",
        "hitting\n",
        "league\n",
        " \n",
        "Concept 26:"
       ]
      },
      {
       "output_type": "stream",
       "stream": "stdout",
       "text": [
        "\n",
        "103 37 mvp\n",
        "league\n",
        "102857 tesla\n",
        "103 37\n",
        "hitting\n",
        "100th career appears\n",
        "102857 tesla njit\n",
        "posting\n",
        "probably\n",
        "season\n",
        " \n"
       ]
      }
     ],
     "prompt_number": 12
    },
    {
     "cell_type": "code",
     "collapsed": false,
     "input": [],
     "language": "python",
     "metadata": {},
     "outputs": []
    }
   ],
   "metadata": {}
  }
 ]
}